{
  "nbformat": 4,
  "nbformat_minor": 0,
  "metadata": {
    "colab": {
      "name": "AI_Hachathon_for_Sustainability.ipynb",
      "provenance": [],
      "toc_visible": true
    },
    "kernelspec": {
      "name": "python3",
      "display_name": "Python 3"
    },
    "language_info": {
      "name": "python"
    }
  },
  "cells": [
    {
      "cell_type": "markdown",
      "source": [
        "# Part 1: Development of a meta-model to predict monopile damage fraction"
      ],
      "metadata": {
        "id": "XPOUGZWZyPO_"
      }
    },
    {
      "cell_type": "markdown",
      "source": [
        "Connect google drive to colab.*italicized text*"
      ],
      "metadata": {
        "id": "19ijZPnIymNH"
      }
    },
    {
      "cell_type": "code",
      "source": [
        "from google.colab import drive\n",
        "drive.mount('/content/gdrive')"
      ],
      "metadata": {
        "colab": {
          "base_uri": "https://localhost:8080/"
        },
        "id": "99RdlsKYyGKg",
        "outputId": "343c417d-8b0d-4fd2-aa61-78a4453cba00"
      },
      "execution_count": null,
      "outputs": [
        {
          "output_type": "stream",
          "name": "stdout",
          "text": [
            "Mounted at /content/gdrive\n"
          ]
        }
      ]
    },
    {
      "cell_type": "markdown",
      "source": [
        "## Import required packages."
      ],
      "metadata": {
        "id": "FavvD3b-ywOn"
      }
    },
    {
      "cell_type": "code",
      "source": [
        "import pandas as pd\n",
        "import numpy as np\n",
        "import tensorflow as tf\n",
        "import matplotlib.pyplot as plt\n",
        "\n",
        "from sklearn.model_selection import train_test_split\n",
        "from sklearn.datasets import load_iris\n",
        "from sklearn.preprocessing import MinMaxScaler\n",
        "from sklearn.metrics import mean_squared_error\n",
        "\n",
        "import keras as keras\n",
        "from keras.models import Sequential\n",
        "from keras.layers import Dense, Dropout, Flatten\n",
        "from keras.layers import Conv1D, MaxPooling1D, BatchNormalization\n",
        "from keras import backend as K\n",
        "\n",
        "print(\"TensorFlow version:\", tf.__version__)\n",
        "print(keras.__version__)"
      ],
      "metadata": {
        "colab": {
          "base_uri": "https://localhost:8080/"
        },
        "id": "baKUlZ7zy3eX",
        "outputId": "b334b339-9790-475a-b437-ebaf5302aab5"
      },
      "execution_count": null,
      "outputs": [
        {
          "output_type": "stream",
          "name": "stdout",
          "text": [
            "TensorFlow version: 2.8.0\n",
            "2.8.0\n"
          ]
        }
      ]
    },
    {
      "cell_type": "markdown",
      "source": [
        "Load the dataset"
      ],
      "metadata": {
        "id": "QxMeHYabzN9I"
      }
    },
    {
      "cell_type": "code",
      "source": [
        "data = pd.read_csv('gdrive/My Drive/FNL_Damage_Hackathon.csv') # correct file location as required\n"
      ],
      "metadata": {
        "id": "V4X7qywozPzn"
      },
      "execution_count": null,
      "outputs": []
    },
    {
      "cell_type": "code",
      "source": [
        "print(data.shape)\n",
        "data.head()"
      ],
      "metadata": {
        "colab": {
          "base_uri": "https://localhost:8080/",
          "height": 223
        },
        "id": "_AKRZ9h10kyi",
        "outputId": "86e52981-6309-4f7a-a9a4-50a56f94b25f"
      },
      "execution_count": null,
      "outputs": [
        {
          "output_type": "stream",
          "name": "stdout",
          "text": [
            "(19050, 5)\n"
          ]
        },
        {
          "output_type": "execute_result",
          "data": {
            "text/plain": [
              "    Tp        Hs  Uw  Op             D\n",
              "0  2.0  0.004385   1   1  1.760000e-09\n",
              "1  2.0  0.004385   1   2           NaN\n",
              "2  2.0  0.004385   2   1  1.500000e-06\n",
              "3  2.0  0.004385   2   2  5.710000e-10\n",
              "4  2.0  0.004385   3   1  1.900000e-07"
            ],
            "text/html": [
              "\n",
              "  <div id=\"df-a90213b5-de77-4302-9214-c4083c6c9257\">\n",
              "    <div class=\"colab-df-container\">\n",
              "      <div>\n",
              "<style scoped>\n",
              "    .dataframe tbody tr th:only-of-type {\n",
              "        vertical-align: middle;\n",
              "    }\n",
              "\n",
              "    .dataframe tbody tr th {\n",
              "        vertical-align: top;\n",
              "    }\n",
              "\n",
              "    .dataframe thead th {\n",
              "        text-align: right;\n",
              "    }\n",
              "</style>\n",
              "<table border=\"1\" class=\"dataframe\">\n",
              "  <thead>\n",
              "    <tr style=\"text-align: right;\">\n",
              "      <th></th>\n",
              "      <th>Tp</th>\n",
              "      <th>Hs</th>\n",
              "      <th>Uw</th>\n",
              "      <th>Op</th>\n",
              "      <th>D</th>\n",
              "    </tr>\n",
              "  </thead>\n",
              "  <tbody>\n",
              "    <tr>\n",
              "      <th>0</th>\n",
              "      <td>2.0</td>\n",
              "      <td>0.004385</td>\n",
              "      <td>1</td>\n",
              "      <td>1</td>\n",
              "      <td>1.760000e-09</td>\n",
              "    </tr>\n",
              "    <tr>\n",
              "      <th>1</th>\n",
              "      <td>2.0</td>\n",
              "      <td>0.004385</td>\n",
              "      <td>1</td>\n",
              "      <td>2</td>\n",
              "      <td>NaN</td>\n",
              "    </tr>\n",
              "    <tr>\n",
              "      <th>2</th>\n",
              "      <td>2.0</td>\n",
              "      <td>0.004385</td>\n",
              "      <td>2</td>\n",
              "      <td>1</td>\n",
              "      <td>1.500000e-06</td>\n",
              "    </tr>\n",
              "    <tr>\n",
              "      <th>3</th>\n",
              "      <td>2.0</td>\n",
              "      <td>0.004385</td>\n",
              "      <td>2</td>\n",
              "      <td>2</td>\n",
              "      <td>5.710000e-10</td>\n",
              "    </tr>\n",
              "    <tr>\n",
              "      <th>4</th>\n",
              "      <td>2.0</td>\n",
              "      <td>0.004385</td>\n",
              "      <td>3</td>\n",
              "      <td>1</td>\n",
              "      <td>1.900000e-07</td>\n",
              "    </tr>\n",
              "  </tbody>\n",
              "</table>\n",
              "</div>\n",
              "      <button class=\"colab-df-convert\" onclick=\"convertToInteractive('df-a90213b5-de77-4302-9214-c4083c6c9257')\"\n",
              "              title=\"Convert this dataframe to an interactive table.\"\n",
              "              style=\"display:none;\">\n",
              "        \n",
              "  <svg xmlns=\"http://www.w3.org/2000/svg\" height=\"24px\"viewBox=\"0 0 24 24\"\n",
              "       width=\"24px\">\n",
              "    <path d=\"M0 0h24v24H0V0z\" fill=\"none\"/>\n",
              "    <path d=\"M18.56 5.44l.94 2.06.94-2.06 2.06-.94-2.06-.94-.94-2.06-.94 2.06-2.06.94zm-11 1L8.5 8.5l.94-2.06 2.06-.94-2.06-.94L8.5 2.5l-.94 2.06-2.06.94zm10 10l.94 2.06.94-2.06 2.06-.94-2.06-.94-.94-2.06-.94 2.06-2.06.94z\"/><path d=\"M17.41 7.96l-1.37-1.37c-.4-.4-.92-.59-1.43-.59-.52 0-1.04.2-1.43.59L10.3 9.45l-7.72 7.72c-.78.78-.78 2.05 0 2.83L4 21.41c.39.39.9.59 1.41.59.51 0 1.02-.2 1.41-.59l7.78-7.78 2.81-2.81c.8-.78.8-2.07 0-2.86zM5.41 20L4 18.59l7.72-7.72 1.47 1.35L5.41 20z\"/>\n",
              "  </svg>\n",
              "      </button>\n",
              "      \n",
              "  <style>\n",
              "    .colab-df-container {\n",
              "      display:flex;\n",
              "      flex-wrap:wrap;\n",
              "      gap: 12px;\n",
              "    }\n",
              "\n",
              "    .colab-df-convert {\n",
              "      background-color: #E8F0FE;\n",
              "      border: none;\n",
              "      border-radius: 50%;\n",
              "      cursor: pointer;\n",
              "      display: none;\n",
              "      fill: #1967D2;\n",
              "      height: 32px;\n",
              "      padding: 0 0 0 0;\n",
              "      width: 32px;\n",
              "    }\n",
              "\n",
              "    .colab-df-convert:hover {\n",
              "      background-color: #E2EBFA;\n",
              "      box-shadow: 0px 1px 2px rgba(60, 64, 67, 0.3), 0px 1px 3px 1px rgba(60, 64, 67, 0.15);\n",
              "      fill: #174EA6;\n",
              "    }\n",
              "\n",
              "    [theme=dark] .colab-df-convert {\n",
              "      background-color: #3B4455;\n",
              "      fill: #D2E3FC;\n",
              "    }\n",
              "\n",
              "    [theme=dark] .colab-df-convert:hover {\n",
              "      background-color: #434B5C;\n",
              "      box-shadow: 0px 1px 3px 1px rgba(0, 0, 0, 0.15);\n",
              "      filter: drop-shadow(0px 1px 2px rgba(0, 0, 0, 0.3));\n",
              "      fill: #FFFFFF;\n",
              "    }\n",
              "  </style>\n",
              "\n",
              "      <script>\n",
              "        const buttonEl =\n",
              "          document.querySelector('#df-a90213b5-de77-4302-9214-c4083c6c9257 button.colab-df-convert');\n",
              "        buttonEl.style.display =\n",
              "          google.colab.kernel.accessAllowed ? 'block' : 'none';\n",
              "\n",
              "        async function convertToInteractive(key) {\n",
              "          const element = document.querySelector('#df-a90213b5-de77-4302-9214-c4083c6c9257');\n",
              "          const dataTable =\n",
              "            await google.colab.kernel.invokeFunction('convertToInteractive',\n",
              "                                                     [key], {});\n",
              "          if (!dataTable) return;\n",
              "\n",
              "          const docLinkHtml = 'Like what you see? Visit the ' +\n",
              "            '<a target=\"_blank\" href=https://colab.research.google.com/notebooks/data_table.ipynb>data table notebook</a>'\n",
              "            + ' to learn more about interactive tables.';\n",
              "          element.innerHTML = '';\n",
              "          dataTable['output_type'] = 'display_data';\n",
              "          await google.colab.output.renderOutput(dataTable, element);\n",
              "          const docLink = document.createElement('div');\n",
              "          docLink.innerHTML = docLinkHtml;\n",
              "          element.appendChild(docLink);\n",
              "        }\n",
              "      </script>\n",
              "    </div>\n",
              "  </div>\n",
              "  "
            ]
          },
          "metadata": {},
          "execution_count": 9
        }
      ]
    },
    {
      "cell_type": "markdown",
      "source": [
        "Remove any NaN values and outliers (threshold not justified here). \n",
        "\n",
        "\n"
      ],
      "metadata": {
        "id": "X6BsPpLajmbz"
      }
    },
    {
      "cell_type": "code",
      "source": [
        "data = data.dropna() # remove NaN data entries\n",
        "\n",
        "valid_values = abs(data['D'] < 0.0030) # remove outliers\n",
        "data = data[valid_values]\n",
        "data.info()"
      ],
      "metadata": {
        "colab": {
          "base_uri": "https://localhost:8080/"
        },
        "id": "B0CwP6of4S4j",
        "outputId": "1a823a40-b02d-4099-8202-317fe480fd2c"
      },
      "execution_count": null,
      "outputs": [
        {
          "output_type": "stream",
          "name": "stdout",
          "text": [
            "<class 'pandas.core.frame.DataFrame'>\n",
            "Int64Index: 16985 entries, 0 to 18999\n",
            "Data columns (total 5 columns):\n",
            " #   Column  Non-Null Count  Dtype  \n",
            "---  ------  --------------  -----  \n",
            " 0   Tp      16985 non-null  float64\n",
            " 1   Hs      16985 non-null  float64\n",
            " 2   Uw      16985 non-null  int64  \n",
            " 3   Op      16985 non-null  int64  \n",
            " 4   D       16985 non-null  float64\n",
            "dtypes: float64(3), int64(2)\n",
            "memory usage: 796.2 KB\n"
          ]
        }
      ]
    },
    {
      "cell_type": "markdown",
      "source": [
        "View imported dataset, which includes the following variables per column\n",
        "\n",
        "Tp= Peak wave period (s)\n",
        "Hs = Significant wave height (m)\n",
        "Uw = Mean wind speed at turbine hub height (m/s)\n",
        "Op = Turbine opperatinal state, whereby 1 = opperational, and 2 = parked\n",
        "D = Hourly monopile damage fraction associated with the above variables."
      ],
      "metadata": {
        "id": "2l904J5l5Xds"
      }
    },
    {
      "cell_type": "code",
      "source": [
        "data.head()"
      ],
      "metadata": {
        "colab": {
          "base_uri": "https://localhost:8080/",
          "height": 206
        },
        "id": "FAT8c2_u5ZaD",
        "outputId": "d44638cd-cd32-44e5-baee-fc19fd8b92e6"
      },
      "execution_count": null,
      "outputs": [
        {
          "output_type": "execute_result",
          "data": {
            "text/plain": [
              "    Tp        Hs  Uw  Op             D\n",
              "0  2.0  0.004385   1   1  1.760000e-09\n",
              "2  2.0  0.004385   2   1  1.500000e-06\n",
              "3  2.0  0.004385   2   2  5.710000e-10\n",
              "4  2.0  0.004385   3   1  1.900000e-07\n",
              "5  2.0  0.004385   3   2  4.530000e-10"
            ],
            "text/html": [
              "\n",
              "  <div id=\"df-235a1553-695c-42c7-838e-4755cf3fa411\">\n",
              "    <div class=\"colab-df-container\">\n",
              "      <div>\n",
              "<style scoped>\n",
              "    .dataframe tbody tr th:only-of-type {\n",
              "        vertical-align: middle;\n",
              "    }\n",
              "\n",
              "    .dataframe tbody tr th {\n",
              "        vertical-align: top;\n",
              "    }\n",
              "\n",
              "    .dataframe thead th {\n",
              "        text-align: right;\n",
              "    }\n",
              "</style>\n",
              "<table border=\"1\" class=\"dataframe\">\n",
              "  <thead>\n",
              "    <tr style=\"text-align: right;\">\n",
              "      <th></th>\n",
              "      <th>Tp</th>\n",
              "      <th>Hs</th>\n",
              "      <th>Uw</th>\n",
              "      <th>Op</th>\n",
              "      <th>D</th>\n",
              "    </tr>\n",
              "  </thead>\n",
              "  <tbody>\n",
              "    <tr>\n",
              "      <th>0</th>\n",
              "      <td>2.0</td>\n",
              "      <td>0.004385</td>\n",
              "      <td>1</td>\n",
              "      <td>1</td>\n",
              "      <td>1.760000e-09</td>\n",
              "    </tr>\n",
              "    <tr>\n",
              "      <th>2</th>\n",
              "      <td>2.0</td>\n",
              "      <td>0.004385</td>\n",
              "      <td>2</td>\n",
              "      <td>1</td>\n",
              "      <td>1.500000e-06</td>\n",
              "    </tr>\n",
              "    <tr>\n",
              "      <th>3</th>\n",
              "      <td>2.0</td>\n",
              "      <td>0.004385</td>\n",
              "      <td>2</td>\n",
              "      <td>2</td>\n",
              "      <td>5.710000e-10</td>\n",
              "    </tr>\n",
              "    <tr>\n",
              "      <th>4</th>\n",
              "      <td>2.0</td>\n",
              "      <td>0.004385</td>\n",
              "      <td>3</td>\n",
              "      <td>1</td>\n",
              "      <td>1.900000e-07</td>\n",
              "    </tr>\n",
              "    <tr>\n",
              "      <th>5</th>\n",
              "      <td>2.0</td>\n",
              "      <td>0.004385</td>\n",
              "      <td>3</td>\n",
              "      <td>2</td>\n",
              "      <td>4.530000e-10</td>\n",
              "    </tr>\n",
              "  </tbody>\n",
              "</table>\n",
              "</div>\n",
              "      <button class=\"colab-df-convert\" onclick=\"convertToInteractive('df-235a1553-695c-42c7-838e-4755cf3fa411')\"\n",
              "              title=\"Convert this dataframe to an interactive table.\"\n",
              "              style=\"display:none;\">\n",
              "        \n",
              "  <svg xmlns=\"http://www.w3.org/2000/svg\" height=\"24px\"viewBox=\"0 0 24 24\"\n",
              "       width=\"24px\">\n",
              "    <path d=\"M0 0h24v24H0V0z\" fill=\"none\"/>\n",
              "    <path d=\"M18.56 5.44l.94 2.06.94-2.06 2.06-.94-2.06-.94-.94-2.06-.94 2.06-2.06.94zm-11 1L8.5 8.5l.94-2.06 2.06-.94-2.06-.94L8.5 2.5l-.94 2.06-2.06.94zm10 10l.94 2.06.94-2.06 2.06-.94-2.06-.94-.94-2.06-.94 2.06-2.06.94z\"/><path d=\"M17.41 7.96l-1.37-1.37c-.4-.4-.92-.59-1.43-.59-.52 0-1.04.2-1.43.59L10.3 9.45l-7.72 7.72c-.78.78-.78 2.05 0 2.83L4 21.41c.39.39.9.59 1.41.59.51 0 1.02-.2 1.41-.59l7.78-7.78 2.81-2.81c.8-.78.8-2.07 0-2.86zM5.41 20L4 18.59l7.72-7.72 1.47 1.35L5.41 20z\"/>\n",
              "  </svg>\n",
              "      </button>\n",
              "      \n",
              "  <style>\n",
              "    .colab-df-container {\n",
              "      display:flex;\n",
              "      flex-wrap:wrap;\n",
              "      gap: 12px;\n",
              "    }\n",
              "\n",
              "    .colab-df-convert {\n",
              "      background-color: #E8F0FE;\n",
              "      border: none;\n",
              "      border-radius: 50%;\n",
              "      cursor: pointer;\n",
              "      display: none;\n",
              "      fill: #1967D2;\n",
              "      height: 32px;\n",
              "      padding: 0 0 0 0;\n",
              "      width: 32px;\n",
              "    }\n",
              "\n",
              "    .colab-df-convert:hover {\n",
              "      background-color: #E2EBFA;\n",
              "      box-shadow: 0px 1px 2px rgba(60, 64, 67, 0.3), 0px 1px 3px 1px rgba(60, 64, 67, 0.15);\n",
              "      fill: #174EA6;\n",
              "    }\n",
              "\n",
              "    [theme=dark] .colab-df-convert {\n",
              "      background-color: #3B4455;\n",
              "      fill: #D2E3FC;\n",
              "    }\n",
              "\n",
              "    [theme=dark] .colab-df-convert:hover {\n",
              "      background-color: #434B5C;\n",
              "      box-shadow: 0px 1px 3px 1px rgba(0, 0, 0, 0.15);\n",
              "      filter: drop-shadow(0px 1px 2px rgba(0, 0, 0, 0.3));\n",
              "      fill: #FFFFFF;\n",
              "    }\n",
              "  </style>\n",
              "\n",
              "      <script>\n",
              "        const buttonEl =\n",
              "          document.querySelector('#df-235a1553-695c-42c7-838e-4755cf3fa411 button.colab-df-convert');\n",
              "        buttonEl.style.display =\n",
              "          google.colab.kernel.accessAllowed ? 'block' : 'none';\n",
              "\n",
              "        async function convertToInteractive(key) {\n",
              "          const element = document.querySelector('#df-235a1553-695c-42c7-838e-4755cf3fa411');\n",
              "          const dataTable =\n",
              "            await google.colab.kernel.invokeFunction('convertToInteractive',\n",
              "                                                     [key], {});\n",
              "          if (!dataTable) return;\n",
              "\n",
              "          const docLinkHtml = 'Like what you see? Visit the ' +\n",
              "            '<a target=\"_blank\" href=https://colab.research.google.com/notebooks/data_table.ipynb>data table notebook</a>'\n",
              "            + ' to learn more about interactive tables.';\n",
              "          element.innerHTML = '';\n",
              "          dataTable['output_type'] = 'display_data';\n",
              "          await google.colab.output.renderOutput(dataTable, element);\n",
              "          const docLink = document.createElement('div');\n",
              "          docLink.innerHTML = docLinkHtml;\n",
              "          element.appendChild(docLink);\n",
              "        }\n",
              "      </script>\n",
              "    </div>\n",
              "  </div>\n",
              "  "
            ]
          },
          "metadata": {},
          "execution_count": 12
        }
      ]
    },
    {
      "cell_type": "markdown",
      "source": [
        "Select training inputs data, and remove any unwanted columns from inputs dataset."
      ],
      "metadata": {
        "id": "29RmTRJc5jvN"
      }
    },
    {
      "cell_type": "code",
      "source": [
        "y=data[['D']]\n",
        "x=data.drop(columns=['D'])\n",
        "x.head()"
      ],
      "metadata": {
        "colab": {
          "base_uri": "https://localhost:8080/",
          "height": 206
        },
        "id": "VRsukSMH52F8",
        "outputId": "a8c18020-3838-477c-b15a-7f4e78628afd"
      },
      "execution_count": null,
      "outputs": [
        {
          "output_type": "execute_result",
          "data": {
            "text/plain": [
              "    Tp        Hs  Uw  Op\n",
              "0  2.0  0.004385   1   1\n",
              "2  2.0  0.004385   2   1\n",
              "3  2.0  0.004385   2   2\n",
              "4  2.0  0.004385   3   1\n",
              "5  2.0  0.004385   3   2"
            ],
            "text/html": [
              "\n",
              "  <div id=\"df-4687a55d-3122-4edd-add5-19271a694481\">\n",
              "    <div class=\"colab-df-container\">\n",
              "      <div>\n",
              "<style scoped>\n",
              "    .dataframe tbody tr th:only-of-type {\n",
              "        vertical-align: middle;\n",
              "    }\n",
              "\n",
              "    .dataframe tbody tr th {\n",
              "        vertical-align: top;\n",
              "    }\n",
              "\n",
              "    .dataframe thead th {\n",
              "        text-align: right;\n",
              "    }\n",
              "</style>\n",
              "<table border=\"1\" class=\"dataframe\">\n",
              "  <thead>\n",
              "    <tr style=\"text-align: right;\">\n",
              "      <th></th>\n",
              "      <th>Tp</th>\n",
              "      <th>Hs</th>\n",
              "      <th>Uw</th>\n",
              "      <th>Op</th>\n",
              "    </tr>\n",
              "  </thead>\n",
              "  <tbody>\n",
              "    <tr>\n",
              "      <th>0</th>\n",
              "      <td>2.0</td>\n",
              "      <td>0.004385</td>\n",
              "      <td>1</td>\n",
              "      <td>1</td>\n",
              "    </tr>\n",
              "    <tr>\n",
              "      <th>2</th>\n",
              "      <td>2.0</td>\n",
              "      <td>0.004385</td>\n",
              "      <td>2</td>\n",
              "      <td>1</td>\n",
              "    </tr>\n",
              "    <tr>\n",
              "      <th>3</th>\n",
              "      <td>2.0</td>\n",
              "      <td>0.004385</td>\n",
              "      <td>2</td>\n",
              "      <td>2</td>\n",
              "    </tr>\n",
              "    <tr>\n",
              "      <th>4</th>\n",
              "      <td>2.0</td>\n",
              "      <td>0.004385</td>\n",
              "      <td>3</td>\n",
              "      <td>1</td>\n",
              "    </tr>\n",
              "    <tr>\n",
              "      <th>5</th>\n",
              "      <td>2.0</td>\n",
              "      <td>0.004385</td>\n",
              "      <td>3</td>\n",
              "      <td>2</td>\n",
              "    </tr>\n",
              "  </tbody>\n",
              "</table>\n",
              "</div>\n",
              "      <button class=\"colab-df-convert\" onclick=\"convertToInteractive('df-4687a55d-3122-4edd-add5-19271a694481')\"\n",
              "              title=\"Convert this dataframe to an interactive table.\"\n",
              "              style=\"display:none;\">\n",
              "        \n",
              "  <svg xmlns=\"http://www.w3.org/2000/svg\" height=\"24px\"viewBox=\"0 0 24 24\"\n",
              "       width=\"24px\">\n",
              "    <path d=\"M0 0h24v24H0V0z\" fill=\"none\"/>\n",
              "    <path d=\"M18.56 5.44l.94 2.06.94-2.06 2.06-.94-2.06-.94-.94-2.06-.94 2.06-2.06.94zm-11 1L8.5 8.5l.94-2.06 2.06-.94-2.06-.94L8.5 2.5l-.94 2.06-2.06.94zm10 10l.94 2.06.94-2.06 2.06-.94-2.06-.94-.94-2.06-.94 2.06-2.06.94z\"/><path d=\"M17.41 7.96l-1.37-1.37c-.4-.4-.92-.59-1.43-.59-.52 0-1.04.2-1.43.59L10.3 9.45l-7.72 7.72c-.78.78-.78 2.05 0 2.83L4 21.41c.39.39.9.59 1.41.59.51 0 1.02-.2 1.41-.59l7.78-7.78 2.81-2.81c.8-.78.8-2.07 0-2.86zM5.41 20L4 18.59l7.72-7.72 1.47 1.35L5.41 20z\"/>\n",
              "  </svg>\n",
              "      </button>\n",
              "      \n",
              "  <style>\n",
              "    .colab-df-container {\n",
              "      display:flex;\n",
              "      flex-wrap:wrap;\n",
              "      gap: 12px;\n",
              "    }\n",
              "\n",
              "    .colab-df-convert {\n",
              "      background-color: #E8F0FE;\n",
              "      border: none;\n",
              "      border-radius: 50%;\n",
              "      cursor: pointer;\n",
              "      display: none;\n",
              "      fill: #1967D2;\n",
              "      height: 32px;\n",
              "      padding: 0 0 0 0;\n",
              "      width: 32px;\n",
              "    }\n",
              "\n",
              "    .colab-df-convert:hover {\n",
              "      background-color: #E2EBFA;\n",
              "      box-shadow: 0px 1px 2px rgba(60, 64, 67, 0.3), 0px 1px 3px 1px rgba(60, 64, 67, 0.15);\n",
              "      fill: #174EA6;\n",
              "    }\n",
              "\n",
              "    [theme=dark] .colab-df-convert {\n",
              "      background-color: #3B4455;\n",
              "      fill: #D2E3FC;\n",
              "    }\n",
              "\n",
              "    [theme=dark] .colab-df-convert:hover {\n",
              "      background-color: #434B5C;\n",
              "      box-shadow: 0px 1px 3px 1px rgba(0, 0, 0, 0.15);\n",
              "      filter: drop-shadow(0px 1px 2px rgba(0, 0, 0, 0.3));\n",
              "      fill: #FFFFFF;\n",
              "    }\n",
              "  </style>\n",
              "\n",
              "      <script>\n",
              "        const buttonEl =\n",
              "          document.querySelector('#df-4687a55d-3122-4edd-add5-19271a694481 button.colab-df-convert');\n",
              "        buttonEl.style.display =\n",
              "          google.colab.kernel.accessAllowed ? 'block' : 'none';\n",
              "\n",
              "        async function convertToInteractive(key) {\n",
              "          const element = document.querySelector('#df-4687a55d-3122-4edd-add5-19271a694481');\n",
              "          const dataTable =\n",
              "            await google.colab.kernel.invokeFunction('convertToInteractive',\n",
              "                                                     [key], {});\n",
              "          if (!dataTable) return;\n",
              "\n",
              "          const docLinkHtml = 'Like what you see? Visit the ' +\n",
              "            '<a target=\"_blank\" href=https://colab.research.google.com/notebooks/data_table.ipynb>data table notebook</a>'\n",
              "            + ' to learn more about interactive tables.';\n",
              "          element.innerHTML = '';\n",
              "          dataTable['output_type'] = 'display_data';\n",
              "          await google.colab.output.renderOutput(dataTable, element);\n",
              "          const docLink = document.createElement('div');\n",
              "          docLink.innerHTML = docLinkHtml;\n",
              "          element.appendChild(docLink);\n",
              "        }\n",
              "      </script>\n",
              "    </div>\n",
              "  </div>\n",
              "  "
            ]
          },
          "metadata": {},
          "execution_count": 14
        }
      ]
    },
    {
      "cell_type": "markdown",
      "source": [
        "Create training and test datasets. Set test:train ratio (80:20 split used in this example)"
      ],
      "metadata": {
        "id": "TpriBdwR58ss"
      }
    },
    {
      "cell_type": "code",
      "source": [
        "x_train, x_test, y_train, y_test = train_test_split(x,y,test_size=0.2, random_state=42)"
      ],
      "metadata": {
        "id": "2J9ZPkOO5lHU"
      },
      "execution_count": null,
      "outputs": []
    },
    {
      "cell_type": "markdown",
      "source": [
        "Normalise the input data, and reshape for input into convolutional neural\n",
        "network."
      ],
      "metadata": {
        "id": "pMGbYDFk6Yf-"
      }
    },
    {
      "cell_type": "code",
      "source": [
        "FNL_output_scaler = MinMaxScaler(feature_range=(0, 1), copy=False) # create scaler\n",
        "FNL_output_scaler.fit(y_train)\n",
        "y_train = FNL_output_scaler.transform(y_train)\n",
        "y_test = FNL_output_scaler.transform(y_test)\n",
        "\n",
        "FNL_input_scaler = MinMaxScaler(feature_range=(0, 1), copy=False) # create scaler\n",
        "FNL_input_scaler.fit(x_train)\n",
        "x_train = FNL_input_scaler.transform(x_train)\n",
        "x_test = FNL_input_scaler.transform(x_test)\n",
        "\n",
        "x_train = x_train.reshape(x_train.shape[0], x_train.shape[1], 1)\n",
        "x_test = x_test.reshape(x_test.shape[0], x_test.shape[1], 1)"
      ],
      "metadata": {
        "id": "Nf4m1mUe6ZNM"
      },
      "execution_count": null,
      "outputs": []
    },
    {
      "cell_type": "markdown",
      "source": [
        "Create CNN model"
      ],
      "metadata": {
        "id": "fOKYQvJI6_ct"
      }
    },
    {
      "cell_type": "code",
      "source": [
        "verbose, epochs, batch_size = 0, 100, 64\n",
        "\t\t\n",
        "model = Sequential()\n",
        "model.add(Conv1D(filters=64, kernel_size=9, padding='same', activation='relu', \n",
        "                 input_shape=(x_train.shape[1],x_train.shape[2])))\n",
        "model.add(BatchNormalization())\n",
        "model.add(Dropout(0.2))\n",
        "model.add(Conv1D(filters=32, kernel_size=7, padding='same', activation='relu', \n",
        "                 input_shape=(x_train.shape[1],x_train.shape[2])))\n",
        "\n",
        "model.add(MaxPooling1D())\n",
        "model.add(Flatten())\n",
        "model.add(Dense(64, activation='relu'))\n",
        "model.add(Dropout(0.1))\n",
        "model.add(Dense(32, activation='relu'))\n",
        "model.add(Dense(1))\n",
        "\n",
        "model.compile(loss='mse', optimizer='adam', \n",
        "              metrics=[tf.keras.metrics.MeanAbsolutePercentageError()])\n",
        " \n",
        "model.summary() "
      ],
      "metadata": {
        "colab": {
          "base_uri": "https://localhost:8080/"
        },
        "id": "YK-rMLPa7X6c",
        "outputId": "d25f338f-5d00-4d88-c1e5-0fd53e28c2ce"
      },
      "execution_count": null,
      "outputs": [
        {
          "output_type": "stream",
          "name": "stdout",
          "text": [
            "Model: \"sequential\"\n",
            "_________________________________________________________________\n",
            " Layer (type)                Output Shape              Param #   \n",
            "=================================================================\n",
            " conv1d (Conv1D)             (None, 4, 64)             640       \n",
            "                                                                 \n",
            " batch_normalization (BatchN  (None, 4, 64)            256       \n",
            " ormalization)                                                   \n",
            "                                                                 \n",
            " dropout (Dropout)           (None, 4, 64)             0         \n",
            "                                                                 \n",
            " conv1d_1 (Conv1D)           (None, 4, 32)             14368     \n",
            "                                                                 \n",
            " max_pooling1d (MaxPooling1D  (None, 2, 32)            0         \n",
            " )                                                               \n",
            "                                                                 \n",
            " flatten (Flatten)           (None, 64)                0         \n",
            "                                                                 \n",
            " dense (Dense)               (None, 64)                4160      \n",
            "                                                                 \n",
            " dropout_1 (Dropout)         (None, 64)                0         \n",
            "                                                                 \n",
            " dense_1 (Dense)             (None, 32)                2080      \n",
            "                                                                 \n",
            " dense_2 (Dense)             (None, 1)                 33        \n",
            "                                                                 \n",
            "=================================================================\n",
            "Total params: 21,537\n",
            "Trainable params: 21,409\n",
            "Non-trainable params: 128\n",
            "_________________________________________________________________\n"
          ]
        }
      ]
    },
    {
      "cell_type": "markdown",
      "source": [
        "Train the *model*"
      ],
      "metadata": {
        "id": "U0vZIn2r8JMM"
      }
    },
    {
      "cell_type": "code",
      "source": [
        "history = model.fit(x_train, y_train, epochs=epochs, batch_size=batch_size, \n",
        "                    verbose=verbose, validation_data=(x_test, y_test), \n",
        "                    shuffle=True)"
      ],
      "metadata": {
        "id": "pQSewxBk8MPJ"
      },
      "execution_count": null,
      "outputs": []
    },
    {
      "cell_type": "markdown",
      "source": [
        "Predict model results based on test data inputs"
      ],
      "metadata": {
        "id": "JJ9vTr1_8ZpJ"
      }
    },
    {
      "cell_type": "code",
      "source": [
        "y_test_pred=model.predict(x_test)\n",
        "\n",
        "print(model.evaluate(x_train,y_train))\n",
        "print(\"Test data MSE: %.4f\" % mean_squared_error(y_test, y_test_pred))"
      ],
      "metadata": {
        "colab": {
          "base_uri": "https://localhost:8080/"
        },
        "id": "MDQYZyPG8Z9h",
        "outputId": "2c6503a9-5bf2-4568-e50f-90a90114b68b"
      },
      "execution_count": null,
      "outputs": [
        {
          "output_type": "stream",
          "name": "stdout",
          "text": [
            "425/425 [==============================] - 1s 3ms/step - loss: 3.0097e-04 - mean_absolute_percentage_error: 173418.6094\n",
            "[0.0003009653592016548, 173418.609375]\n",
            "Test data MSE: 0.0005\n"
          ]
        }
      ]
    },
    {
      "cell_type": "markdown",
      "source": [
        "Plot results between model predicted damage and simulated damage."
      ],
      "metadata": {
        "id": "kXO8i4EG84e-"
      }
    },
    {
      "cell_type": "code",
      "source": [
        "plt.figure(1)\n",
        "plt.rcParams[\"mathtext.default\"]\n",
        "plt.scatter(y_test,y_test_pred) # plot predicted v origonal\n",
        "plt.xlabel(r'$D_{j,hr} \\/$' '(Normalised Simulated Values)')\n",
        "plt.ylabel(r'$D_{j,hr} \\/$' '(Normalised Predicted Values)')\n",
        "lims = [0, 1]\n",
        "plt.xlim(lims)\n",
        "plt.ylim(lims)\n",
        "\n",
        "xplot = np.linspace(0,1,100)\n",
        "yplot = xplot\n",
        "plt.plot(xplot, yplot, '--r')"
      ],
      "metadata": {
        "colab": {
          "base_uri": "https://localhost:8080/",
          "height": 305
        },
        "id": "d3l_GRnF854r",
        "outputId": "cf288426-a326-4a12-ed31-b249042bd126"
      },
      "execution_count": null,
      "outputs": [
        {
          "output_type": "execute_result",
          "data": {
            "text/plain": [
              "[<matplotlib.lines.Line2D at 0x7fcf6fd91790>]"
            ]
          },
          "metadata": {},
          "execution_count": 20
        },
        {
          "output_type": "display_data",
          "data": {
            "text/plain": [
              "<Figure size 432x288 with 1 Axes>"
            ],
            "image/png": "[encoded data removed]"
          },
          "metadata": {
            "needs_background": "light"
          }
        }
      ]
    },
    {
      "cell_type": "markdown",
      "source": [
        "Plot result residuals, and calculate r-squared score"
      ],
      "metadata": {
        "id": "6_w5F_eJ9F47"
      }
    },
    {
      "cell_type": "code",
      "source": [
        "import seaborn as sns\n",
        "residuals = y_test - y_test_pred\n",
        "sns.distplot(residuals)\n",
        "plt.xlabel(r'Residual')\n",
        "plt.ylabel(r'Count')\n",
        "\n",
        "plt.savefig('FNL_cnn_model_residuals_23022022_2.png',dpi=300)\n",
        "\n",
        "from sklearn.metrics import r2_score\n",
        "r2_score(y_test, y_test_pred)  "
      ],
      "metadata": {
        "colab": {
          "base_uri": "https://localhost:8080/",
          "height": 351
        },
        "id": "ZmTyGR3o9HRj",
        "outputId": "dcf6176b-6d61-45a0-cf37-69ddeb794fbc"
      },
      "execution_count": null,
      "outputs": [
        {
          "output_type": "stream",
          "name": "stderr",
          "text": [
            "/usr/local/lib/python3.7/dist-packages/seaborn/distributions.py:2619: FutureWarning: `distplot` is a deprecated function and will be removed in a future version. Please adapt your code to use either `displot` (a figure-level function with similar flexibility) or `histplot` (an axes-level function for histograms).\n",
            "  warnings.warn(msg, FutureWarning)\n"
          ]
        },
        {
          "output_type": "execute_result",
          "data": {
            "text/plain": [
              "0.9588407268990847"
            ]
          },
          "metadata": {},
          "execution_count": 21
        },
        {
          "output_type": "display_data",
          "data": {
            "text/plain": [
              "<Figure size 432x288 with 1 Axes>"
            ],
            "image/png": "[encoded data removed]"
          },
          "metadata": {
            "needs_background": "light"
          }
        }
      ]
    },
    {
      "cell_type": "markdown",
      "source": [
        "Plot model loss and accuracy"
      ],
      "metadata": {
        "id": "rLhw1whA9N6i"
      }
    },
    {
      "cell_type": "code",
      "source": [
        "print(history.history.keys())\n",
        "\n",
        "from cycler import cycler\n",
        "\n",
        "plt.figure(1)\n",
        "plt.rcParams['axes.prop_cycle'] = cycler(color=['k', 'r', 'b', 'g'])\n",
        "plt.rcParams['font.family'] = 'Serif'\n",
        "\n",
        "plt.plot(history.history['loss'])\n",
        "plt.plot(history.history['val_loss'])\n",
        "plt.ylabel('Loss (MSE)')\n",
        "plt.xlabel('Epoch')\n",
        "plt.legend(['Training', 'Validation'], loc='upper right')\n",
        "plt.savefig('FNL_cnn_loss_23022022_2.png',dpi=300)\n",
        "\n",
        "plt.show()"
      ],
      "metadata": {
        "colab": {
          "base_uri": "https://localhost:8080/",
          "height": 295
        },
        "id": "O6B3zCOr-KUP",
        "outputId": "44a031ed-a741-4049-d3f2-6a53921b526d"
      },
      "execution_count": null,
      "outputs": [
        {
          "output_type": "stream",
          "name": "stdout",
          "text": [
            "dict_keys(['loss', 'mean_absolute_percentage_error', 'val_loss', 'val_mean_absolute_percentage_error'])\n"
          ]
        },
        {
          "output_type": "display_data",
          "data": {
            "text/plain": [
              "<Figure size 432x288 with 1 Axes>"
            ],
            "image/png": "[encoded data removed]"
          },
          "metadata": {
            "needs_background": "light"
          }
        }
      ]
    },
    {
      "cell_type": "markdown",
      "source": [
        "save the model"
      ],
      "metadata": {
        "id": "DrhtglEr-zA1"
      }
    },
    {
      "cell_type": "code",
      "source": [
        "model.save('FNL_Damage_CNN_model_hackathon')\n",
        "model.save('FNL_Damage_CNN_model_hackathon.h5')\n",
        "\n",
        "#from sklearn.externals import joblib\n",
        "#joblib.dump(FNL_output_scaler, \"FNL_output_scaler\") \n",
        "#joblib.dump(FNL_input_scaler, \"FNL_input_scaler\") "
      ],
      "metadata": {
        "colab": {
          "base_uri": "https://localhost:8080/"
        },
        "id": "HJBTmsgZ-1E-",
        "outputId": "84edcc2c-f200-4365-e032-54b5af6679d8"
      },
      "execution_count": null,
      "outputs": [
        {
          "output_type": "stream",
          "name": "stdout",
          "text": [
            "INFO:tensorflow:Assets written to: FNL_Damage_CNN_model_hackathon/assets\n"
          ]
        }
      ]
    },
    {
      "cell_type": "markdown",
      "source": [
        "# Part 2: Calculation of estimated damage from developed meta-model for an example dataset\n",
        "Now that we have developed a meta-model to estimate monopile damage based on input data, we can input measured data from the North Sea at the FINO1 research platform (www.fino1.de). A data set named \"fino1_hourly_aug2019_aug2020.csv\" is provide in the root folder, containing hourly input data, and whether the turbine would be parked or operational (a known factor based on the wind speed).\n",
        "\n",
        "Firstly, import this datasets."
      ],
      "metadata": {
        "id": "XRTig7Pk_P_W"
      }
    },
    {
      "cell_type": "code",
      "source": [
        "data_hourly=pd.read_csv('gdrive/My Drive/fino1_hourly_aug2019_aug2020.csv')"
      ],
      "metadata": {
        "id": "T8bCVf5hA2to"
      },
      "execution_count": null,
      "outputs": []
    },
    {
      "cell_type": "markdown",
      "source": [
        "Given that the inputs to out model were scaled, we need to apply the same scaling transfer to the measured data we are going to apply to the meta-model. Also, as during model development, we need to reshape the dataset."
      ],
      "metadata": {
        "id": "Ns_X1S7IBRZ3"
      }
    },
    {
      "cell_type": "code",
      "source": [
        "data_hourly=FNL_input_scaler.transform(data_hourly)\n",
        "data_hourly_input = data_hourly.reshape(data_hourly.shape[0], data_hourly.shape[1], 1)"
      ],
      "metadata": {
        "id": "jgH1It9hBPXn"
      },
      "execution_count": null,
      "outputs": []
    },
    {
      "cell_type": "markdown",
      "source": [
        "We can now input our measured dataset into the model to determine the corresponding damage value calculated by the meta-model."
      ],
      "metadata": {
        "id": "kkFs5GVVBlCo"
      }
    },
    {
      "cell_type": "code",
      "source": [
        "D_hourly_Pred = model.predict(data_hourly_input)\n",
        "D_hourly_Pred"
      ],
      "metadata": {
        "colab": {
          "base_uri": "https://localhost:8080/"
        },
        "id": "LpKPVWH4BlSw",
        "outputId": "894fb1af-ce50-445a-df79-41a6658cfb2d"
      },
      "execution_count": null,
      "outputs": [
        {
          "output_type": "execute_result",
          "data": {
            "text/plain": [
              "array([[0.02153187],\n",
              "       [0.01892928],\n",
              "       [0.02101026],\n",
              "       ...,\n",
              "       [0.01484532],\n",
              "       [0.01424222],\n",
              "       [0.01439073]], dtype=float32)"
            ]
          },
          "metadata": {},
          "execution_count": 27
        }
      ]
    },
    {
      "cell_type": "markdown",
      "source": [
        "Given that the output damage values form the meta-model are normalised, we must \n",
        "\n",
        "apply the inverse transformation function.\n"
      ],
      "metadata": {
        "id": "6hss7E2oB3Wv"
      }
    },
    {
      "cell_type": "code",
      "source": [
        "D_hourly_Pred_true = FNL_output_scaler.inverse_transform(D_hourly_Pred)\n",
        "D_hourly_Pred_true"
      ],
      "metadata": {
        "colab": {
          "base_uri": "https://localhost:8080/"
        },
        "id": "IsFP7xzCB3vv",
        "outputId": "07bff813-7942-4736-f3ae-6ca5e1898116"
      },
      "execution_count": null,
      "outputs": [
        {
          "output_type": "execute_result",
          "data": {
            "text/plain": [
              "array([[6.1257757e-05],\n",
              "       [5.3853480e-05],\n",
              "       [5.9773800e-05],\n",
              "       ...,\n",
              "       [4.2234726e-05],\n",
              "       [4.0518917e-05],\n",
              "       [4.0941432e-05]], dtype=float32)"
            ]
          },
          "metadata": {},
          "execution_count": 28
        }
      ]
    },
    {
      "cell_type": "markdown",
      "source": [
        "We now have a series of damage fraction values corresponding to measured conditions, based on the model predicts. \n",
        "These values can now be used to estiamte the damage accumulated over the one year period."
      ],
      "metadata": {
        "id": "tkE4Nlx6Dehl"
      }
    }
  ]
}